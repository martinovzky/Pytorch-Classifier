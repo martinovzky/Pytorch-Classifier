{
  "cells": [
    {
      "cell_type": "markdown",
      "metadata": {
        "id": "view-in-github",
        "colab_type": "text"
      },
      "source": [
        "<a href=\"https://colab.research.google.com/github/martinovzky/Pytorch-Classifier/blob/main/Pytorch_Scene_Classifier.ipynb\" target=\"_parent\"><img src=\"https://colab.research.google.com/assets/colab-badge.svg\" alt=\"Open In Colab\"/></a>"
      ]
    },
    {
      "cell_type": "markdown",
      "metadata": {
        "id": "NFW6lmlH9oNe"
      },
      "source": [
        "# Libraries, Hyperparameters"
      ]
    },
    {
      "cell_type": "code",
      "execution_count": 2,
      "metadata": {
        "id": "gpkPwSxr8U6L"
      },
      "outputs": [],
      "source": [
        "#libraries\n",
        "\n",
        "import torch as torch\n",
        "import torch.nn as nn         # classes and functions for NN building\n",
        "import torch.optim as optim   # optimization algorithms for training\n",
        "from torch.utils.data import Dataset, DataLoader\n",
        "import torchvision            # pre-trained models\n",
        "import torchvision.transforms as transforms\n",
        "from torchvision.datasets import ImageFolder # for batching and loading data\n",
        "import timm                                  # contains the models\n",
        "\n",
        "import matplotlib.pyplot as plt              # for data viz\n",
        "import pandas as pd\n",
        "import numpy as np\n",
        "import sys\n",
        "from tqdm.notebook import tqdm"
      ]
    },
    {
      "cell_type": "code",
      "execution_count": 3,
      "metadata": {
        "id": "86GPzr3R9-2P"
      },
      "outputs": [],
      "source": [
        "#hyperparameters\n",
        "\n",
        "batch = 32               # of images / training batch\n",
        "number_epochs = 8       # tot number of training epochs (full passes over the dataset)\n",
        "LearningRate = 1e-3      # learning rate for the optimizer (how much should model weights be updated after each batch)\n",
        "#WeightDecay = 1e-1       # discourages large parameters in order not to overfit\n",
        "Gamma = 0.1              # factor by which the learning rate will be reduced, helpw the model converge more smoothly and avoid overshooting local minima\n",
        "NumClasses = 67          # MIT‑67 dataset has 67 scene categories\n",
        "device = \"cuda\" if torch.cuda.is_available() else \"cpu\"\n"
      ]
    },
    {
      "cell_type": "markdown",
      "metadata": {
        "id": "0-byjcqGabno"
      },
      "source": [
        "# Data Preparation\n"
      ]
    },
    {
      "cell_type": "code",
      "execution_count": 5,
      "metadata": {
        "colab": {
          "base_uri": "https://localhost:8080/",
          "height": 373
        },
        "id": "2MYEzHkVpSwo",
        "outputId": "25c64988-a573-44df-f824-c693ff68266c"
      },
      "outputs": [
        {
          "output_type": "error",
          "ename": "MessageError",
          "evalue": "Error: credential propagation was unsuccessful",
          "traceback": [
            "\u001b[0;31m---------------------------------------------------------------------------\u001b[0m",
            "\u001b[0;31mMessageError\u001b[0m                              Traceback (most recent call last)",
            "\u001b[0;32m<ipython-input-5-837635833ab2>\u001b[0m in \u001b[0;36m<cell line: 0>\u001b[0;34m()\u001b[0m\n\u001b[1;32m      3\u001b[0m \u001b[0;32mfrom\u001b[0m \u001b[0mgoogle\u001b[0m\u001b[0;34m.\u001b[0m\u001b[0mcolab\u001b[0m \u001b[0;32mimport\u001b[0m \u001b[0mdrive\u001b[0m\u001b[0;34m\u001b[0m\u001b[0;34m\u001b[0m\u001b[0m\n\u001b[1;32m      4\u001b[0m \u001b[0;34m\u001b[0m\u001b[0m\n\u001b[0;32m----> 5\u001b[0;31m \u001b[0mdrive\u001b[0m\u001b[0;34m.\u001b[0m\u001b[0mmount\u001b[0m\u001b[0;34m(\u001b[0m\u001b[0;34m'/content/drive'\u001b[0m\u001b[0;34m)\u001b[0m\u001b[0;34m\u001b[0m\u001b[0;34m\u001b[0m\u001b[0m\n\u001b[0m\u001b[1;32m      6\u001b[0m \u001b[0;34m\u001b[0m\u001b[0m\n\u001b[1;32m      7\u001b[0m \u001b[0mtrain_dir\u001b[0m \u001b[0;34m=\u001b[0m \u001b[0;34m'/content/drive/MyDrive/Colab_Notebooks/train'\u001b[0m\u001b[0;34m\u001b[0m\u001b[0;34m\u001b[0m\u001b[0m\n",
            "\u001b[0;32m/usr/local/lib/python3.11/dist-packages/google/colab/drive.py\u001b[0m in \u001b[0;36mmount\u001b[0;34m(mountpoint, force_remount, timeout_ms, readonly)\u001b[0m\n\u001b[1;32m     98\u001b[0m \u001b[0;32mdef\u001b[0m \u001b[0mmount\u001b[0m\u001b[0;34m(\u001b[0m\u001b[0mmountpoint\u001b[0m\u001b[0;34m,\u001b[0m \u001b[0mforce_remount\u001b[0m\u001b[0;34m=\u001b[0m\u001b[0;32mFalse\u001b[0m\u001b[0;34m,\u001b[0m \u001b[0mtimeout_ms\u001b[0m\u001b[0;34m=\u001b[0m\u001b[0;36m120000\u001b[0m\u001b[0;34m,\u001b[0m \u001b[0mreadonly\u001b[0m\u001b[0;34m=\u001b[0m\u001b[0;32mFalse\u001b[0m\u001b[0;34m)\u001b[0m\u001b[0;34m:\u001b[0m\u001b[0;34m\u001b[0m\u001b[0;34m\u001b[0m\u001b[0m\n\u001b[1;32m     99\u001b[0m   \u001b[0;34m\"\"\"Mount your Google Drive at the specified mountpoint path.\"\"\"\u001b[0m\u001b[0;34m\u001b[0m\u001b[0;34m\u001b[0m\u001b[0m\n\u001b[0;32m--> 100\u001b[0;31m   return _mount(\n\u001b[0m\u001b[1;32m    101\u001b[0m       \u001b[0mmountpoint\u001b[0m\u001b[0;34m,\u001b[0m\u001b[0;34m\u001b[0m\u001b[0;34m\u001b[0m\u001b[0m\n\u001b[1;32m    102\u001b[0m       \u001b[0mforce_remount\u001b[0m\u001b[0;34m=\u001b[0m\u001b[0mforce_remount\u001b[0m\u001b[0;34m,\u001b[0m\u001b[0;34m\u001b[0m\u001b[0;34m\u001b[0m\u001b[0m\n",
            "\u001b[0;32m/usr/local/lib/python3.11/dist-packages/google/colab/drive.py\u001b[0m in \u001b[0;36m_mount\u001b[0;34m(mountpoint, force_remount, timeout_ms, ephemeral, readonly)\u001b[0m\n\u001b[1;32m    135\u001b[0m   )\n\u001b[1;32m    136\u001b[0m   \u001b[0;32mif\u001b[0m \u001b[0mephemeral\u001b[0m\u001b[0;34m:\u001b[0m\u001b[0;34m\u001b[0m\u001b[0;34m\u001b[0m\u001b[0m\n\u001b[0;32m--> 137\u001b[0;31m     _message.blocking_request(\n\u001b[0m\u001b[1;32m    138\u001b[0m         \u001b[0;34m'request_auth'\u001b[0m\u001b[0;34m,\u001b[0m\u001b[0;34m\u001b[0m\u001b[0;34m\u001b[0m\u001b[0m\n\u001b[1;32m    139\u001b[0m         \u001b[0mrequest\u001b[0m\u001b[0;34m=\u001b[0m\u001b[0;34m{\u001b[0m\u001b[0;34m'authType'\u001b[0m\u001b[0;34m:\u001b[0m \u001b[0;34m'dfs_ephemeral'\u001b[0m\u001b[0;34m}\u001b[0m\u001b[0;34m,\u001b[0m\u001b[0;34m\u001b[0m\u001b[0;34m\u001b[0m\u001b[0m\n",
            "\u001b[0;32m/usr/local/lib/python3.11/dist-packages/google/colab/_message.py\u001b[0m in \u001b[0;36mblocking_request\u001b[0;34m(request_type, request, timeout_sec, parent)\u001b[0m\n\u001b[1;32m    174\u001b[0m       \u001b[0mrequest_type\u001b[0m\u001b[0;34m,\u001b[0m \u001b[0mrequest\u001b[0m\u001b[0;34m,\u001b[0m \u001b[0mparent\u001b[0m\u001b[0;34m=\u001b[0m\u001b[0mparent\u001b[0m\u001b[0;34m,\u001b[0m \u001b[0mexpect_reply\u001b[0m\u001b[0;34m=\u001b[0m\u001b[0;32mTrue\u001b[0m\u001b[0;34m\u001b[0m\u001b[0;34m\u001b[0m\u001b[0m\n\u001b[1;32m    175\u001b[0m   )\n\u001b[0;32m--> 176\u001b[0;31m   \u001b[0;32mreturn\u001b[0m \u001b[0mread_reply_from_input\u001b[0m\u001b[0;34m(\u001b[0m\u001b[0mrequest_id\u001b[0m\u001b[0;34m,\u001b[0m \u001b[0mtimeout_sec\u001b[0m\u001b[0;34m)\u001b[0m\u001b[0;34m\u001b[0m\u001b[0;34m\u001b[0m\u001b[0m\n\u001b[0m",
            "\u001b[0;32m/usr/local/lib/python3.11/dist-packages/google/colab/_message.py\u001b[0m in \u001b[0;36mread_reply_from_input\u001b[0;34m(message_id, timeout_sec)\u001b[0m\n\u001b[1;32m    101\u001b[0m     ):\n\u001b[1;32m    102\u001b[0m       \u001b[0;32mif\u001b[0m \u001b[0;34m'error'\u001b[0m \u001b[0;32min\u001b[0m \u001b[0mreply\u001b[0m\u001b[0;34m:\u001b[0m\u001b[0;34m\u001b[0m\u001b[0;34m\u001b[0m\u001b[0m\n\u001b[0;32m--> 103\u001b[0;31m         \u001b[0;32mraise\u001b[0m \u001b[0mMessageError\u001b[0m\u001b[0;34m(\u001b[0m\u001b[0mreply\u001b[0m\u001b[0;34m[\u001b[0m\u001b[0;34m'error'\u001b[0m\u001b[0;34m]\u001b[0m\u001b[0;34m)\u001b[0m\u001b[0;34m\u001b[0m\u001b[0;34m\u001b[0m\u001b[0m\n\u001b[0m\u001b[1;32m    104\u001b[0m       \u001b[0;32mreturn\u001b[0m \u001b[0mreply\u001b[0m\u001b[0;34m.\u001b[0m\u001b[0mget\u001b[0m\u001b[0;34m(\u001b[0m\u001b[0;34m'data'\u001b[0m\u001b[0;34m,\u001b[0m \u001b[0;32mNone\u001b[0m\u001b[0;34m)\u001b[0m\u001b[0;34m\u001b[0m\u001b[0;34m\u001b[0m\u001b[0m\n\u001b[1;32m    105\u001b[0m \u001b[0;34m\u001b[0m\u001b[0m\n",
            "\u001b[0;31mMessageError\u001b[0m: Error: credential propagation was unsuccessful"
          ]
        }
      ],
      "source": [
        "import zipfile\n",
        "import os\n",
        "from google.colab import drive\n",
        "\n",
        "drive.mount('/content/drive')\n",
        "\n",
        "train_dir = '/content/drive/MyDrive/Colab_Notebooks/train'\n",
        "test_dir = '/content/drive/MyDrive/Colab_Notebooks/test'\n"
      ]
    },
    {
      "cell_type": "code",
      "execution_count": null,
      "metadata": {
        "id": "5e7k7TYnDfnh"
      },
      "outputs": [],
      "source": [
        "# transformations for training and validation\n",
        "\n",
        "train_transforms = transforms.Compose([\n",
        "    transforms.Resize((224, 224)),             # resizes images to 224x224 pixels\n",
        "    transforms.RandomHorizontalFlip(),         # randomly flips images horizontally for data augmentation\n",
        "    transforms.RandomRotation(10),             # random rotation up to 10 degrees\n",
        "    transforms.ColorJitter(                    # random changes in brightness/contrast/saturation/hue\n",
        "        brightness=0.2, contrast=0.2,\n",
        "        saturation=0.2, hue=0.1\n",
        "    ),\n",
        "    transforms.ToTensor(),                     # converts PIL Image to a PyTorch tensor (scales pixels to [0,1])\n",
        "    transforms.Normalize(mean=[0.485, 0.456, 0.406],  # normalizes using ImageNet statistics\n",
        "                         std=[0.229, 0.224, 0.225])\n",
        "])\n",
        "\n",
        "val_transforms = transforms.Compose([\n",
        "    transforms.Resize((224, 224)),             # resizes images for consistency\n",
        "    transforms.ToTensor(),                     # converts images to tensor, pixel values now between [0,1].\n",
        "    transforms.Normalize(mean=[0.485, 0.456, 0.406],  # uses same normalization as training\n",
        "                         std=[0.229, 0.224, 0.225])\n",
        "])\n",
        "\n",
        "\n",
        "# assigns labels to images based on subfolder names (= class names),  stores a list of image file paths and their corresponding labels.\n",
        "train_dataset = ImageFolder(root=train_dir, transform=train_transforms)\n",
        "val_dataset   = ImageFolder(root=test_dir, transform=val_transforms)\n",
        "\n",
        "# DataLoaders to handle batching and shuffling. When iterated over, it loads batches of images and labels.\n",
        "train_loader = DataLoader(train_dataset, batch_size= batch, shuffle=True, num_workers=2) # shuffle in order not to get overfitting\n",
        "val_loader   = DataLoader(val_dataset, batch_size= batch, shuffle=False, num_workers=2) #num_workers = 2: 2 subprocesses to speed things up\n",
        "\n"
      ]
    },
    {
      "cell_type": "markdown",
      "metadata": {
        "id": "wWea5veQ9m7Y"
      },
      "source": []
    },
    {
      "cell_type": "markdown",
      "metadata": {
        "id": "E6ETEdJk9duI"
      },
      "source": [
        "# Model Setup\n"
      ]
    },
    {
      "cell_type": "code",
      "execution_count": null,
      "metadata": {
        "id": "zHylPK7K9hJX"
      },
      "outputs": [],
      "source": [
        "#download model with pretrained weights\n",
        "model = timm.create_model(\"efficientnet_b0\", pretrained=True)\n",
        "\n",
        "#adapts the model to classify images into NumClasses instead of the default 1000 ImageNet categories\n",
        "\n",
        "in_features = model.classifier.in_features             # number of input features for the classifier layer\n",
        "model.classifier = nn.Linear(in_features, NumClasses)  # replaces with a new linear layer\n",
        "\n",
        "model = model.to(device)"
      ]
    },
    {
      "cell_type": "code",
      "execution_count": null,
      "metadata": {
        "id": "yz4zMxaHQJ4e"
      },
      "outputs": [],
      "source": [
        "#loss function\n",
        "criterion = nn.CrossEntropyLoss()\n",
        "\n",
        "#optimizer updates model weights during training\n",
        "optimizer = optim.Adam(model.parameters(), lr=LearningRate)\n",
        "\n",
        "# learning rate schedule, reduces LR after every 5 epochs\n",
        "scheduler = optim.lr_scheduler.StepLR(optimizer, step_size=4, gamma=Gamma)\n",
        "# after every 4 epochs, the LR is multiplied by gamma=0.1"
      ]
    },
    {
      "cell_type": "markdown",
      "metadata": {
        "id": "DluTQ8kORPHh"
      },
      "source": [
        "# Training & Validation"
      ]
    },
    {
      "cell_type": "code",
      "execution_count": null,
      "metadata": {
        "colab": {
          "background_save": true,
          "base_uri": "https://localhost:8080/"
        },
        "id": "qCrsz2IpRVJr",
        "outputId": "cc98d4fa-0d44-4e4b-c17d-6994ac7cedac"
      },
      "outputs": [
        {
          "name": "stdout",
          "output_type": "stream",
          "text": [
            "Epoch 1/8 | Train Loss: 2.4018 | Train Acc: 0.3886\n",
            "Validation Loss: 1.4998 | Validation Acc: 0.5821\n",
            "Epoch 2/8 | Train Loss: 1.1650 | Train Acc: 0.6618\n",
            "Validation Loss: 1.3618 | Validation Acc: 0.6231\n",
            "Epoch 3/8 | Train Loss: 0.7353 | Train Acc: 0.7828\n",
            "Validation Loss: 1.2740 | Validation Acc: 0.6567\n",
            "Epoch 4/8 | Train Loss: 0.5423 | Train Acc: 0.8293\n",
            "Validation Loss: 1.3959 | Validation Acc: 0.6530\n",
            "Epoch 5/8 | Train Loss: 0.4142 | Train Acc: 0.8690\n",
            "Validation Loss: 1.3212 | Validation Acc: 0.6560\n",
            "Epoch 6/8 | Train Loss: 0.3265 | Train Acc: 0.8979\n",
            "Validation Loss: 1.5932 | Validation Acc: 0.6455\n",
            "Epoch 7/8 | Train Loss: 0.2843 | Train Acc: 0.9118\n",
            "Validation Loss: 1.3644 | Validation Acc: 0.6851\n",
            "Epoch 8/8 | Train Loss: 0.2529 | Train Acc: 0.9170\n",
            "Validation Loss: 1.4716 | Validation Acc: 0.6776\n"
          ]
        }
      ],
      "source": [
        "#we train over 8 epochs\n",
        "\n",
        "train_losses = []\n",
        "val_losses = []\n",
        "\n",
        "for epochs in range(number_epochs):\n",
        "  model.train() #set the model to training mode: activates dropout (prevents overfitting), batchnorm, etc.\n",
        "  running_loss = 0.0 #loss per epoch\n",
        "  correct_samples = 0  #i.e. predicted label matches with real label\n",
        "  total_sampled = 0\n",
        "\n",
        "  for images, labels in train_loader:\n",
        "    images, labels = images.to(device), labels.to(device) #moves these batches (tensors) them where the model is\n",
        "    optimizer.zero_grad() #sets the gradients from previous steps to 0\n",
        "\n",
        "    output = model(images) #forward pass, computes predictions (confidence scocres, not probabilities), and stores them in a tensor\n",
        "    loss = criterion(output, labels) #computes loss between label predictions and actual labels\n",
        "\n",
        "    #backprobagation : computes gradients of loss wrt the model's weights,this traverses the model backwards and probagates the outpout back to the input\n",
        "    loss.backward()\n",
        "\n",
        "    optimizer.step() #updates model weights\n",
        "\n",
        "    # model performance\n",
        "\n",
        "    running_loss += loss.item() * images.size(0)  #acumulated loss (loss per batch * number of images)\n",
        "    _, preds = torch.max(output, 1)  #gets predicted class (preds) by taking the sample's max confidence score (_, is then ignored in order to later compute element-wise comparaison)\n",
        "    correct_samples += (preds == labels).sum().item()  #counts correct predictions\n",
        "    total_sampled += labels.size(0)  #counts total samples\n",
        "\n",
        "  epoch_loss = running_loss / total_sampled  #average loss for the epoch\n",
        "  train_losses.append(epoch_loss)\n",
        "\n",
        "  epoch_acc  = correct_samples / total_sampled         #accuracy for the epoch\n",
        "\n",
        "  print(f\"Epoch {epochs+1}/{number_epochs} | Train Loss: {epoch_loss:.4f} | Train Acc: {epoch_acc:.4f}\")\n",
        "\n",
        "\n",
        "\n",
        "  model.eval() #sets to validation mode\n",
        "  val_loss = 0.0\n",
        "  val_correct = 0\n",
        "  val_total = 0\n",
        "\n",
        "  #disables gradient calculations for validation to save memory and computation\n",
        "\n",
        "  with torch.no_grad():\n",
        "    for images, labels in val_loader:\n",
        "      images, labels = images.to(device), labels.to(device)\n",
        "      output = model(images)           #forward pass\n",
        "      loss = criterion(output, labels) #validation loss\n",
        "\n",
        "      val_loss += loss.item() * images.size(0)  #acumulated loss (loss per batch * number of images)\n",
        "      _, preds = torch.max(output,1)\n",
        "      val_correct += (preds == labels).sum().item() # item() converts tensor to a scalar\n",
        "      val_total += labels.size(0)\n",
        "\n",
        "  val_loss = val_loss / val_total #average validation loss\n",
        "  val_losses.append(val_loss)\n",
        "  val_acc = val_correct / val_total #average validation accuracy\n",
        "\n",
        "  print(f\"Validation Loss: {val_loss:.4f} | Validation Acc: {val_acc:.4f}\")\n"
      ]
    },
    {
      "cell_type": "markdown",
      "metadata": {
        "id": "QmfkSxoRlZee"
      },
      "source": [
        "# Data visualization"
      ]
    },
    {
      "cell_type": "code",
      "execution_count": 4,
      "metadata": {
        "colab": {
          "base_uri": "https://localhost:8080/",
          "height": 221
        },
        "id": "OfBEddJoli_0",
        "outputId": "7999e8c7-6e00-4165-ef04-1dc49df8d6ec"
      },
      "outputs": [
        {
          "output_type": "error",
          "ename": "NameError",
          "evalue": "name 'train_losses' is not defined",
          "traceback": [
            "\u001b[0;31m---------------------------------------------------------------------------\u001b[0m",
            "\u001b[0;31mNameError\u001b[0m                                 Traceback (most recent call last)",
            "\u001b[0;32m<ipython-input-4-a0dab6991562>\u001b[0m in \u001b[0;36m<cell line: 0>\u001b[0;34m()\u001b[0m\n\u001b[0;32m----> 1\u001b[0;31m \u001b[0mplt\u001b[0m\u001b[0;34m.\u001b[0m\u001b[0mplot\u001b[0m\u001b[0;34m(\u001b[0m\u001b[0mtrain_losses\u001b[0m\u001b[0;34m,\u001b[0m \u001b[0mlabel\u001b[0m\u001b[0;34m=\u001b[0m\u001b[0;34m'Training loss'\u001b[0m\u001b[0;34m)\u001b[0m\u001b[0;34m\u001b[0m\u001b[0;34m\u001b[0m\u001b[0m\n\u001b[0m\u001b[1;32m      2\u001b[0m \u001b[0mplt\u001b[0m\u001b[0;34m.\u001b[0m\u001b[0mplot\u001b[0m\u001b[0;34m(\u001b[0m\u001b[0mval_losses\u001b[0m\u001b[0;34m,\u001b[0m \u001b[0mlabel\u001b[0m\u001b[0;34m=\u001b[0m\u001b[0;34m'Validation loss'\u001b[0m\u001b[0;34m)\u001b[0m\u001b[0;34m\u001b[0m\u001b[0;34m\u001b[0m\u001b[0m\n\u001b[1;32m      3\u001b[0m \u001b[0mplt\u001b[0m\u001b[0;34m.\u001b[0m\u001b[0mlegend\u001b[0m\u001b[0;34m(\u001b[0m\u001b[0;34m)\u001b[0m\u001b[0;34m\u001b[0m\u001b[0;34m\u001b[0m\u001b[0m\n\u001b[1;32m      4\u001b[0m \u001b[0mplt\u001b[0m\u001b[0;34m.\u001b[0m\u001b[0mtitle\u001b[0m\u001b[0;34m(\u001b[0m\u001b[0;34m\"Loss over epochs\"\u001b[0m\u001b[0;34m)\u001b[0m\u001b[0;34m\u001b[0m\u001b[0;34m\u001b[0m\u001b[0m\n\u001b[1;32m      5\u001b[0m \u001b[0mplt\u001b[0m\u001b[0;34m.\u001b[0m\u001b[0mshow\u001b[0m\u001b[0;34m(\u001b[0m\u001b[0;34m)\u001b[0m\u001b[0;34m\u001b[0m\u001b[0;34m\u001b[0m\u001b[0m\n",
            "\u001b[0;31mNameError\u001b[0m: name 'train_losses' is not defined"
          ]
        }
      ],
      "source": [
        "plt.plot(train_losses, label='Training loss')\n",
        "plt.plot(val_losses, label='Validation loss')\n",
        "plt.legend()\n",
        "plt.title(\"Loss over epochs\")\n",
        "plt.show()\n"
      ]
    },
    {
      "cell_type": "code",
      "execution_count": null,
      "metadata": {
        "id": "giruhxPdjVOq"
      },
      "outputs": [],
      "source": [
        "#saves the model's state dictionary (weights) to a file\n",
        "torch.save(model.state_dict(), \"efficientnet_b0_mit67.pth\")\n",
        "print(\"Model saved as efficientnet_b0_mit67.pth\")\n"
      ]
    }
  ],
  "metadata": {
    "accelerator": "GPU",
    "colab": {
      "collapsed_sections": [
        "NFW6lmlH9oNe",
        "0-byjcqGabno"
      ],
      "gpuType": "T4",
      "provenance": [],
      "authorship_tag": "ABX9TyPVavVIVq0/7bKRlt+shzem",
      "include_colab_link": true
    },
    "kernelspec": {
      "display_name": "Python 3",
      "name": "python3"
    },
    "language_info": {
      "name": "python"
    }
  },
  "nbformat": 4,
  "nbformat_minor": 0
}