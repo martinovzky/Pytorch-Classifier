{
  "nbformat": 4,
  "nbformat_minor": 0,
  "metadata": {
    "colab": {
      "provenance": [],
      "gpuType": "T4",
      "authorship_tag": "ABX9TyNiJhzqoBvDcM5MZCI1Y4gq",
      "include_colab_link": true
    },
    "kernelspec": {
      "name": "python3",
      "display_name": "Python 3"
    },
    "language_info": {
      "name": "python"
    },
    "accelerator": "GPU"
  },
  "cells": [
    {
      "cell_type": "markdown",
      "metadata": {
        "id": "view-in-github",
        "colab_type": "text"
      },
      "source": [
        "<a href=\"https://colab.research.google.com/github/martinovzky/Pytorch-Classifier/blob/main/Pytorch_Classifier.ipynb\" target=\"_parent\"><img src=\"https://colab.research.google.com/assets/colab-badge.svg\" alt=\"Open In Colab\"/></a>"
      ]
    },
    {
      "cell_type": "code",
      "execution_count": 2,
      "metadata": {
        "colab": {
          "base_uri": "https://localhost:8080/"
        },
        "id": "gpkPwSxr8U6L",
        "outputId": "94f72348-5362-4741-bf10-5e78ae690662"
      },
      "outputs": [
        {
          "output_type": "stream",
          "name": "stdout",
          "text": [
            "System Version: 3.11.11 (main, Dec  4 2024, 08:55:07) [GCC 11.4.0]\n",
            "PyTorch version 2.5.1+cu124\n",
            "Torchvision version 0.20.1+cu124\n",
            "Numpy version 1.26.4\n",
            "Pandas version 2.2.2\n"
          ]
        }
      ],
      "source": [
        "#libraries\n",
        "\n",
        "import torch as torch\n",
        "import torch.nn as nn\n",
        "import torch.optim as optim\n",
        "from torch.utils.data import Dataset, DataLoader\n",
        "import torchvision\n",
        "import torchvision.transforms as transforms\n",
        "from torchvision.datasets import ImageFolder # For batching and loading data\n",
        "import timm                                  # Contains the models\n",
        "\n",
        "import matplotlib.pyplot as plt # For data visualization\n",
        "import pandas as pd\n",
        "import numpy as np\n",
        "import sys\n",
        "from tqdm.notebook import tqdm\n",
        "\n",
        "print('System Version:', sys.version)\n",
        "print('PyTorch version', torch.__version__)\n",
        "print('Torchvision version', torchvision.__version__)\n",
        "print('Numpy version', np.__version__)\n",
        "print('Pandas version', pd.__version__)"
      ]
    },
    {
      "cell_type": "code",
      "source": [
        "#hyperparameters\n",
        "\n",
        "batch_size = 32          # Number of images / training batch\n",
        "epochs = 10              # Total number of training epochs (full passes over the dataset)\n",
        "LearningRate = 1e-3      # Learning rate for the optimizer (how much should model weights be updated after each batch )\n",
        "NumClasses = 67          # MIT‑67 dataset has 67 scene categories\n",
        "device = \"cuda\" if torch.cuda.is_available() else \"cpu\"  # Use GPU if available; otherwise CPU\n"
      ],
      "metadata": {
        "id": "86GPzr3R9-2P"
      },
      "execution_count": 3,
      "outputs": []
    },
    {
      "cell_type": "markdown",
      "source": [],
      "metadata": {
        "id": "tCSQF55kDpGI"
      }
    },
    {
      "cell_type": "markdown",
      "source": [],
      "metadata": {
        "id": "Knz3KqUqEhiI"
      }
    },
    {
      "cell_type": "code",
      "source": [
        "# transformations for training and validation\n",
        "\n",
        "train_transforms = transforms.Compose([\n",
        "    transforms.Resize((224, 224)),            # Resize images to 224x224 pixels\n",
        "    transforms.RandomHorizontalFlip(),         # Randomly flip images horizontally for data augmentation\n",
        "    transforms.ToTensor(),                     # Convert PIL Image to a PyTorch tensor (scales pixels to [0,1])\n",
        "    transforms.Normalize(mean=[0.485, 0.456, 0.406],  # Normalize using ImageNet statistics\n",
        "                         std=[0.229, 0.224, 0.225])\n",
        "])\n",
        "\n",
        "val_transforms = transforms.Compose([\n",
        "    transforms.Resize((224, 224)),            # Resize images for consistency\n",
        "    transforms.ToTensor(),                     # Convert images to tensor, pixel values now between [0,1].\n",
        "    transforms.Normalize(mean=[0.485, 0.456, 0.406],  # Use same normalization as training\n",
        "                         std=[0.229, 0.224, 0.225])\n",
        "])\n",
        "\n",
        "# Specify paths for your train and validation directories\n",
        "train_dir = \"/Users/ms/Desktop/Projects/pytorch-classifier/train/to/MIT67/train\"  # Replace with your actual train folder path\n",
        "val_dir   = \"/Users/ms/Desktop/Projects/pytorch-classifier/test/path/to/MIT67/val\"    # Replace with your actual validation folder path\n",
        "\n",
        "# Create dataset objects for training and validation\n",
        "train_dataset = datasets.ImageFolder(root=train_dir, transform=train_transforms)\n",
        "val_dataset   = datasets.ImageFolder(root=val_dir, transform=val_transforms)\n",
        "\n",
        "# Create data loaders to handle batching and shuffling\n",
        "train_loader = DataLoader(train_dataset, batch_size=BATCH_SIZE, shuffle=True, num_workers=2)\n",
        "val_loader   = DataLoader(val_dataset, batch_size=BATCH_SIZE, shuffle=False, num_workers=2)\n"
      ],
      "metadata": {
        "id": "5e7k7TYnDfnh"
      },
      "execution_count": null,
      "outputs": []
    },
    {
      "cell_type": "code",
      "source": [],
      "metadata": {
        "id": "QZXLTHZwGdzg"
      },
      "execution_count": null,
      "outputs": []
    }
  ]
}
