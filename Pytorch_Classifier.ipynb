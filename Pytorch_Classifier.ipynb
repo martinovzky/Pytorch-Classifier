{
  "cells": [
    {
      "cell_type": "markdown",
      "metadata": {
        "id": "view-in-github",
        "colab_type": "text"
      },
      "source": [
        "<a href=\"https://colab.research.google.com/github/martinovzky/Pytorch-Classifier/blob/main/Pytorch_Classifier.ipynb\" target=\"_parent\"><img src=\"https://colab.research.google.com/assets/colab-badge.svg\" alt=\"Open In Colab\"/></a>"
      ]
    },
    {
      "cell_type": "markdown",
      "metadata": {
        "id": "NFW6lmlH9oNe"
      },
      "source": [
        "# Libraries, Hyperparameters"
      ]
    },
    {
      "cell_type": "code",
      "execution_count": 2,
      "metadata": {
        "id": "gpkPwSxr8U6L"
      },
      "outputs": [],
      "source": [
        "#libraries\n",
        "\n",
        "import torch as torch\n",
        "import torch.nn as nn         # classes and functions for NN building\n",
        "import torch.optim as optim   # optimization algorithms for training\n",
        "from torch.utils.data import Dataset, DataLoader\n",
        "import torchvision            # pre-trained models\n",
        "import torchvision.transforms as transforms\n",
        "from torchvision.datasets import ImageFolder # for batching and loading data\n",
        "import timm                                  # contains the models\n",
        "\n",
        "import matplotlib.pyplot as plt              # for data viz\n",
        "import pandas as pd\n",
        "import numpy as np\n",
        "import sys\n",
        "from tqdm.notebook import tqdm"
      ]
    },
    {
      "cell_type": "code",
      "execution_count": 3,
      "metadata": {
        "id": "86GPzr3R9-2P"
      },
      "outputs": [],
      "source": [
        "#hyperparameters\n",
        "\n",
        "batch = 32               # of images / training batch\n",
        "number_epochs = 8       # tot number of training epochs (full passes over the dataset)\n",
        "LearningRate = 1e-3      # learning rate for the optimizer (how much should model weights be updated after each batch)\n",
        "#WeightDecay = 1e-1       # discourages large parameters in order not to overfit\n",
        "Gamma = 0.1              # factor by which the learning rate will be reduced, helpw the model converge more smoothly and avoid overshooting local minima\n",
        "NumClasses = 67          # MIT‑67 dataset has 67 scene categories\n",
        "device = \"cuda\" if torch.cuda.is_available() else \"cpu\"\n"
      ]
    },
    {
      "cell_type": "markdown",
      "metadata": {
        "id": "0-byjcqGabno"
      },
      "source": [
        "# Data Preparation\n"
      ]
    },
    {
      "cell_type": "code",
      "execution_count": null,
      "metadata": {
        "id": "2MYEzHkVpSwo"
      },
      "outputs": [],
      "source": [
        "import zipfile\n",
        "import os\n",
        "from google.colab import drive\n",
        "\n",
        "drive.mount('/content/drive')\n",
        "\n",
        "train_dir = '/content/drive/MyDrive/Colab_Notebooks/train'\n",
        "test_dir = '/content/drive/MyDrive/Colab_Notebooks/test'\n"
      ]
    },
    {
      "cell_type": "code",
      "execution_count": null,
      "metadata": {
        "id": "5e7k7TYnDfnh"
      },
      "outputs": [],
      "source": [
        "# transformations for training and validation\n",
        "\n",
        "train_transforms = transforms.Compose([\n",
        "    transforms.Resize((224, 224)),             # resizes images to 224x224 pixels\n",
        "    transforms.RandomHorizontalFlip(),         # randomly flips images horizontally for data augmentation\n",
        "    transforms.RandomRotation(10),             # random rotation up to 10 degrees\n",
        "    transforms.ColorJitter(                    # random changes in brightness/contrast/saturation/hue\n",
        "        brightness=0.2, contrast=0.2,\n",
        "        saturation=0.2, hue=0.1\n",
        "    ),\n",
        "    transforms.ToTensor(),                     # converts PIL Image to a PyTorch tensor (scales pixels to [0,1])\n",
        "    transforms.Normalize(mean=[0.485, 0.456, 0.406],  # normalizes using ImageNet statistics\n",
        "                         std=[0.229, 0.224, 0.225])\n",
        "])\n",
        "\n",
        "val_transforms = transforms.Compose([\n",
        "    transforms.Resize((224, 224)),             # resizes images for consistency\n",
        "    transforms.ToTensor(),                     # converts images to tensor, pixel values now between [0,1].\n",
        "    transforms.Normalize(mean=[0.485, 0.456, 0.406],  # uses same normalization as training\n",
        "                         std=[0.229, 0.224, 0.225])\n",
        "])\n",
        "\n",
        "\n",
        "# assigns labels to images based on subfolder names (= class names),  stores a list of image file paths and their corresponding labels.\n",
        "train_dataset = ImageFolder(root=train_dir, transform=train_transforms)\n",
        "val_dataset   = ImageFolder(root=test_dir, transform=val_transforms)\n",
        "\n",
        "# DataLoaders to handle batching and shuffling. When iterated over, it loads batches of images and labels.\n",
        "train_loader = DataLoader(train_dataset, batch_size= batch, shuffle=True, num_workers=2) # shuffle in order not to get overfitting\n",
        "val_loader   = DataLoader(val_dataset, batch_size= batch, shuffle=False, num_workers=2) #num_workers = 2: 2 subprocesses to speed things up\n",
        "\n"
      ]
    },
    {
      "cell_type": "markdown",
      "metadata": {
        "id": "wWea5veQ9m7Y"
      },
      "source": []
    },
    {
      "cell_type": "markdown",
      "metadata": {
        "id": "E6ETEdJk9duI"
      },
      "source": [
        "# Model Setup\n"
      ]
    },
    {
      "cell_type": "code",
      "execution_count": null,
      "metadata": {
        "id": "zHylPK7K9hJX"
      },
      "outputs": [],
      "source": [
        "#download model with pretrained weights\n",
        "model = timm.create_model(\"efficientnet_b0\", pretrained=True)\n",
        "\n",
        "#adapts the model to classify images into NumClasses instead of the default 1000 ImageNet categories\n",
        "\n",
        "in_features = model.classifier.in_features             # number of input features for the classifier layer\n",
        "model.classifier = nn.Linear(in_features, NumClasses)  # replaces with a new linear layer\n",
        "\n",
        "model = model.to(device)"
      ]
    },
    {
      "cell_type": "code",
      "execution_count": null,
      "metadata": {
        "id": "yz4zMxaHQJ4e"
      },
      "outputs": [],
      "source": [
        "#loss function\n",
        "criterion = nn.CrossEntropyLoss()\n",
        "\n",
        "#optimizer updates model weights during training\n",
        "optimizer = optim.Adam(model.parameters(), lr=LearningRate)\n",
        "\n",
        "# learning rate schedule, reduces LR after every 5 epochs\n",
        "scheduler = optim.lr_scheduler.StepLR(optimizer, step_size=4, gamma=Gamma)\n",
        "# after every 4 epochs, the LR is multiplied by gamma=0.1"
      ]
    },
    {
      "cell_type": "markdown",
      "metadata": {
        "id": "DluTQ8kORPHh"
      },
      "source": [
        "# Training & Validation"
      ]
    },
    {
      "cell_type": "code",
      "execution_count": null,
      "metadata": {
        "colab": {
          "background_save": true
        },
        "id": "qCrsz2IpRVJr"
      },
      "outputs": [],
      "source": [
        "#we train over 8 epochs\n",
        "\n",
        "train_losses = []\n",
        "val_losses = []\n",
        "\n",
        "for epochs in range(number_epochs):\n",
        "  model.train() #set the model to training mode: activates dropout (prevents overfitting), batchnorm, etc.\n",
        "  running_loss = 0.0 #loss per epoch\n",
        "  correct_samples = 0  #i.e. predicted label matches with real label\n",
        "  total_sampled = 0\n",
        "\n",
        "  for images, labels in train_loader:\n",
        "    images, labels = images.to(device), labels.to(device) #moves these batches (tensors) them where the model is\n",
        "    optimizer.zero_grad() #sets the gradients from previous steps to 0\n",
        "\n",
        "    output = model(images) #forward pass, computes predictions (confidence scocres, not probabilities), and stores them in a tensor\n",
        "    loss = criterion(output, labels) #computes loss between label predictions and actual labels\n",
        "\n",
        "    #backprobagation : computes gradients of loss wrt the model's weights,this traverses the model backwards and probagates the outpout back to the input\n",
        "    loss.backward()\n",
        "\n",
        "    optimizer.step() #updates model weights\n",
        "\n",
        "    # model performance\n",
        "\n",
        "    running_loss += loss.item() * images.size(0)  #acumulated loss (loss per batch * number of images)\n",
        "    _, preds = torch.max(output, 1)  #gets predicted class (preds) by taking the sample's max confidence score (_, is then ignored in order to later compute element-wise comparaison)\n",
        "    correct_samples += (preds == labels).sum().item()  #counts correct predictions\n",
        "    total_sampled += labels.size(0)  #counts total samples\n",
        "\n",
        "  epoch_loss = running_loss / total_sampled  #average loss for the epoch\n",
        "  train_losses.append(epoch_loss)\n",
        "\n",
        "  epoch_acc  = correct_samples / total_sampled         #accuracy for the epoch\n",
        "\n",
        "  print(f\"Epoch {epochs+1}/{number_epochs} | Train Loss: {epoch_loss:.4f} | Train Acc: {epoch_acc:.4f}\")\n",
        "\n",
        "\n",
        "\n",
        "  model.eval() #sets to validation mode\n",
        "  val_loss = 0.0\n",
        "  val_correct = 0\n",
        "  val_total = 0\n",
        "\n",
        "  #disables gradient calculations for validation to save memory and computation\n",
        "\n",
        "  with torch.no_grad():\n",
        "    for images, labels in val_loader:\n",
        "      images, labels = images.to(device), labels.to(device)\n",
        "      output = model(images)           #forward pass\n",
        "      loss = criterion(output, labels) #validation loss\n",
        "\n",
        "      val_loss += loss.item() * images.size(0)  #acumulated loss (loss per batch * number of images)\n",
        "      _, preds = torch.max(output,1)\n",
        "      val_correct += (preds == labels).sum().item() # item() converts tensor to a scalar\n",
        "      val_total += labels.size(0)\n",
        "\n",
        "  val_loss = val_loss / val_total #average validation loss\n",
        "  val_losses.append(val_loss)\n",
        "  val_acc = val_correct / val_total #average validation accuracy\n",
        "\n",
        "  print(f\"Validation Loss: {val_loss:.4f} | Validation Acc: {val_acc:.4f}\")\n"
      ]
    },
    {
      "cell_type": "markdown",
      "metadata": {
        "id": "QmfkSxoRlZee"
      },
      "source": [
        "# Data visualization"
      ]
    },
    {
      "cell_type": "code",
      "execution_count": null,
      "metadata": {
        "id": "OfBEddJoli_0"
      },
      "outputs": [],
      "source": [
        "plt.plot(train_losses, label='Training loss')\n",
        "plt.plot(val_losses, label='Validation loss')\n",
        "plt.legend()\n",
        "plt.title(\"Loss over epochs\")\n",
        "plt.show()\n"
      ]
    },
    {
      "cell_type": "code",
      "execution_count": null,
      "metadata": {
        "id": "giruhxPdjVOq"
      },
      "outputs": [],
      "source": [
        "#saves the model's state dictionary (weights) to a file\n",
        "torch.save(model.state_dict(), \"efficientnet_b0_mit67.pth\")\n",
        "print(\"Model saved as efficientnet_b0_mit67.pth\")\n"
      ]
    }
  ],
  "metadata": {
    "accelerator": "GPU",
    "colab": {
      "collapsed_sections": [
        "NFW6lmlH9oNe",
        "0-byjcqGabno"
      ],
      "gpuType": "T4",
      "provenance": [],
      "authorship_tag": "ABX9TyPVavVIVq0/7bKRlt+shzem",
      "include_colab_link": true
    },
    "kernelspec": {
      "display_name": "Python 3",
      "name": "python3"
    },
    "language_info": {
      "name": "python"
    }
  },
  "nbformat": 4,
  "nbformat_minor": 0
}