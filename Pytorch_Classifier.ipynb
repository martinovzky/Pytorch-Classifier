{
  "nbformat": 4,
  "nbformat_minor": 0,
  "metadata": {
    "colab": {
      "provenance": [],
      "collapsed_sections": [
        "NFW6lmlH9oNe",
        "0-byjcqGabno"
      ],
      "authorship_tag": "ABX9TyOu7ssJiQuZIuURWMEzCuj5",
      "include_colab_link": true
    },
    "kernelspec": {
      "name": "python3",
      "display_name": "Python 3"
    },
    "language_info": {
      "name": "python"
    }
  },
  "cells": [
    {
      "cell_type": "markdown",
      "metadata": {
        "id": "view-in-github",
        "colab_type": "text"
      },
      "source": [
        "<a href=\"https://colab.research.google.com/github/martinovzky/Pytorch-Classifier/blob/main/Pytorch_Classifier.ipynb\" target=\"_parent\"><img src=\"https://colab.research.google.com/assets/colab-badge.svg\" alt=\"Open In Colab\"/></a>"
      ]
    },
    {
      "cell_type": "markdown",
      "source": [
        "# Libraries, Hyperparameters"
      ],
      "metadata": {
        "id": "NFW6lmlH9oNe"
      }
    },
    {
      "cell_type": "code",
      "execution_count": 5,
      "metadata": {
        "id": "gpkPwSxr8U6L"
      },
      "outputs": [],
      "source": [
        "#libraries\n",
        "\n",
        "import torch as torch\n",
        "import torch.nn as nn         # classes and functions for NN building\n",
        "import torch.optim as optim   # optimization algorithms for training\n",
        "from torch.utils.data import Dataset, DataLoader\n",
        "import torchvision            # pre-trained models\n",
        "import torchvision.transforms as transforms\n",
        "from torchvision.datasets import ImageFolder # for batching and loading data\n",
        "import timm                                  # contains the models\n",
        "\n",
        "import matplotlib.pyplot as plt              # for data viz\n",
        "import pandas as pd\n",
        "import numpy as np\n",
        "import sys\n",
        "from tqdm.notebook import tqdm"
      ]
    },
    {
      "cell_type": "code",
      "source": [
        "#hyperparameters\n",
        "\n",
        "batch = 32               # of images / training batch\n",
        "epochs = 10              # tot number of training epochs (full passes over the dataset)\n",
        "LearningRate = 1e-3      # learning rate for the optimizer (how much should model weights be updated after each batch )\n",
        "NumClasses = 67          # MIT‑67 dataset has 67 scene categories\n",
        "device = \"cuda\" if torch.cuda.is_available() else \"cpu\"\n"
      ],
      "metadata": {
        "id": "86GPzr3R9-2P"
      },
      "execution_count": 14,
      "outputs": []
    },
    {
      "cell_type": "markdown",
      "source": [
        "# Data Preparation\n"
      ],
      "metadata": {
        "id": "0-byjcqGabno"
      }
    },
    {
      "cell_type": "code",
      "source": [
        "import zipfile\n",
        "import os\n",
        "from google.colab import drive\n",
        "\n",
        "drive.mount('/content/drive')\n",
        "\n",
        "train_dir = '/content/drive/MyDrive/Colab_Notebooks/train'\n",
        "test_dir = '/content/drive/MyDrive/Colab_Notebooks/test'\n"
      ],
      "metadata": {
        "colab": {
          "base_uri": "https://localhost:8080/"
        },
        "id": "2MYEzHkVpSwo",
        "outputId": "aa1d9bc4-3162-4ae8-a67a-226efcb85d09"
      },
      "execution_count": 23,
      "outputs": [
        {
          "output_type": "stream",
          "name": "stdout",
          "text": [
            "Drive already mounted at /content/drive; to attempt to forcibly remount, call drive.mount(\"/content/drive\", force_remount=True).\n"
          ]
        }
      ]
    },
    {
      "cell_type": "code",
      "source": [
        "# transformations for training and validation\n",
        "\n",
        "train_transforms = transforms.Compose([\n",
        "    transforms.Resize((224, 224)),             # resizes images to 224x224 pixels\n",
        "    transforms.RandomHorizontalFlip(),         # randomly flips images horizontally for data augmentation\n",
        "    transforms.ToTensor(),                     # converts PIL Image to a PyTorch tensor (scales pixels to [0,1])\n",
        "    transforms.Normalize(mean=[0.485, 0.456, 0.406],  # normalizes using ImageNet statistics\n",
        "                         std=[0.229, 0.224, 0.225])\n",
        "])\n",
        "\n",
        "val_transforms = transforms.Compose([\n",
        "    transforms.Resize((224, 224)),             # resizes images for consistency\n",
        "    transforms.ToTensor(),                     # converts images to tensor, pixel values now between [0,1].\n",
        "    transforms.Normalize(mean=[0.485, 0.456, 0.406],  # uses same normalization as training\n",
        "                         std=[0.229, 0.224, 0.225])\n",
        "])\n",
        "\n",
        "\n",
        "# assigns labels to images based on subfolder names (= class names)\n",
        "train_dataset = ImageFolder(root=train_dir, transform=train_transforms)\n",
        "val_dataset   = ImageFolder(root=test_dir, transform=val_transforms)\n",
        "\n",
        "# data loaders to handle batching and shuffling\n",
        "train_loader = DataLoader(train_dataset, batch_size= batch, shuffle=True, num_workers=2) # shuffle in order not to get overfitting\n",
        "val_loader   = DataLoader(val_dataset, batch_size= batch, shuffle=False, num_workers=2) #num_workers = 2: 2 subprocesses to speed things up\n"
      ],
      "metadata": {
        "id": "5e7k7TYnDfnh"
      },
      "execution_count": 24,
      "outputs": []
    },
    {
      "cell_type": "markdown",
      "source": [],
      "metadata": {
        "id": "wWea5veQ9m7Y"
      }
    },
    {
      "cell_type": "markdown",
      "source": [
        "# Model Setup\n"
      ],
      "metadata": {
        "id": "E6ETEdJk9duI"
      }
    },
    {
      "cell_type": "code",
      "source": [
        "model = timm.create_model(\"efficientnet_b0\", pretrained=True)\n",
        "\n",
        "#adapts the model to classify images into NumClasses instead of the default 1000 ImageNet categories\n",
        "\n",
        "in_features = model.classifier.in_features             # number of input features for the classifier layer\n",
        "model.classifier = nn.Linear(in_features, NumClasses)  # replaces with a new linear layer\n",
        "\n",
        "model = model.to(device)"
      ],
      "metadata": {
        "id": "zHylPK7K9hJX"
      },
      "execution_count": 26,
      "outputs": []
    }
  ]
}